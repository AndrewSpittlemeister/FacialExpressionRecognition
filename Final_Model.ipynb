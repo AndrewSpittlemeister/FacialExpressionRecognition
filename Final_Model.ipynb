{
  "nbformat": 4,
  "nbformat_minor": 0,
  "metadata": {
    "colab": {
      "name": "FacialExpressionRecognition.ipynb",
      "version": "0.3.2",
      "views": {},
      "default_view": {},
      "provenance": [],
      "collapsed_sections": []
    },
    "kernelspec": {
      "name": "python3",
      "display_name": "Python 3"
    },
    "accelerator": "GPU"
  },
  "cells": [
    {
      "metadata": {
        "id": "_PIp-q_txgC7",
        "colab_type": "text"
      },
      "cell_type": "markdown",
      "source": [
        "# Facial Expression Recognition Project"
      ]
    },
    {
      "metadata": {
        "id": "fYAgdTc8A3iK",
        "colab_type": "text"
      },
      "cell_type": "markdown",
      "source": [
        "## Library Installations and Imports"
      ]
    },
    {
      "metadata": {
        "id": "Cq6oNqBTA7Xk",
        "colab_type": "code",
        "colab": {
          "autoexec": {
            "startup": false,
            "wait_interval": 0
          },
          "base_uri": "https://localhost:8080/",
          "height": 2123
        },
        "outputId": "03153260-b69a-4a44-9e40-98d1e1f4741f",
        "executionInfo": {
          "status": "ok",
          "timestamp": 1524503984086,
          "user_tz": 300,
          "elapsed": 30323,
          "user": {
            "displayName": "Andrew Spittlemeister",
            "photoUrl": "//lh5.googleusercontent.com/-K1fqqvWvozY/AAAAAAAAAAI/AAAAAAAAABg/Kh4T3wfzofk/s50-c-k-no/photo.jpg",
            "userId": "116305124686982070571"
          }
        }
      },
      "cell_type": "code",
      "source": [
        "!pip install -U -q PyDrive\n",
        "!apt-get -qq install -y graphviz && pip install -q pydot\n",
        "!pip install -q keras\n",
        "\n",
        "\n",
        "from google.colab import files\n",
        "\n",
        "from pydrive.auth import GoogleAuth\n",
        "from pydrive.drive import GoogleDrive\n",
        "from google.colab import auth\n",
        "from oauth2client.client import GoogleCredentials\n",
        "\n",
        "import pandas as pd\n",
        "import numpy as np\n",
        "from matplotlib import pyplot as plt\n",
        "import pydot\n",
        "\n",
        "import tensorflow as tf\n",
        "from tensorflow.python.client import device_lib\n",
        "\n",
        "from keras.models import Sequential\n",
        "from keras.layers import Conv2D, LocallyConnected2D, MaxPooling2D, Dense\n",
        "from keras.layers import Activation, Dropout, Flatten\n",
        "from keras.callbacks import EarlyStopping\n",
        "from keras.utils import plot_model, to_categorical\n",
        "from keras import backend as K\n"
      ],
      "execution_count": 1,
      "outputs": [
        {
          "output_type": "stream",
          "text": [
            "Selecting previously unselected package fontconfig.\n",
            "(Reading database ... 18298 files and directories currently installed.)\n",
            "Preparing to unpack .../00-fontconfig_2.11.94-0ubuntu2_amd64.deb ...\n",
            "Unpacking fontconfig (2.11.94-0ubuntu2) ...\n",
            "Selecting previously unselected package libjbig0:amd64.\n",
            "Preparing to unpack .../01-libjbig0_2.1-3.1_amd64.deb ...\n",
            "Unpacking libjbig0:amd64 (2.1-3.1) ...\n",
            "Selecting previously unselected package libcdt5.\n",
            "Preparing to unpack .../02-libcdt5_2.38.0-16ubuntu2_amd64.deb ...\n",
            "Unpacking libcdt5 (2.38.0-16ubuntu2) ...\n",
            "Selecting previously unselected package libcgraph6.\n",
            "Preparing to unpack .../03-libcgraph6_2.38.0-16ubuntu2_amd64.deb ...\n",
            "Unpacking libcgraph6 (2.38.0-16ubuntu2) ...\n",
            "Selecting previously unselected package libtiff5:amd64.\n",
            "Preparing to unpack .../04-libtiff5_4.0.8-5ubuntu0.1_amd64.deb ...\n",
            "Unpacking libtiff5:amd64 (4.0.8-5ubuntu0.1) ...\n",
            "Selecting previously unselected package libwebp6:amd64.\n",
            "Preparing to unpack .../05-libwebp6_0.6.0-3_amd64.deb ...\n",
            "Unpacking libwebp6:amd64 (0.6.0-3) ...\n",
            "Selecting previously unselected package libxpm4:amd64.\n",
            "Preparing to unpack .../06-libxpm4_1%3a3.5.12-1_amd64.deb ...\n",
            "Unpacking libxpm4:amd64 (1:3.5.12-1) ...\n",
            "Selecting previously unselected package libgd3:amd64.\n",
            "Preparing to unpack .../07-libgd3_2.2.5-3_amd64.deb ...\n",
            "Unpacking libgd3:amd64 (2.2.5-3) ...\n",
            "Selecting previously unselected package libpixman-1-0:amd64.\n",
            "Preparing to unpack .../08-libpixman-1-0_0.34.0-1_amd64.deb ...\n",
            "Unpacking libpixman-1-0:amd64 (0.34.0-1) ...\n",
            "Selecting previously unselected package libxcb-render0:amd64.\n",
            "Preparing to unpack .../09-libxcb-render0_1.12-1ubuntu1_amd64.deb ...\n",
            "Unpacking libxcb-render0:amd64 (1.12-1ubuntu1) ...\n",
            "Selecting previously unselected package libxcb-shm0:amd64.\n",
            "Preparing to unpack .../10-libxcb-shm0_1.12-1ubuntu1_amd64.deb ...\n",
            "Unpacking libxcb-shm0:amd64 (1.12-1ubuntu1) ...\n",
            "Selecting previously unselected package libcairo2:amd64.\n",
            "Preparing to unpack .../11-libcairo2_1.14.10-1ubuntu1_amd64.deb ...\n",
            "Unpacking libcairo2:amd64 (1.14.10-1ubuntu1) ...\n",
            "Selecting previously unselected package libltdl7:amd64.\n",
            "Preparing to unpack .../12-libltdl7_2.4.6-2_amd64.deb ...\n",
            "Unpacking libltdl7:amd64 (2.4.6-2) ...\n",
            "Selecting previously unselected package libthai-data.\n",
            "Preparing to unpack .../13-libthai-data_0.1.26-3_all.deb ...\n",
            "Unpacking libthai-data (0.1.26-3) ...\n",
            "Selecting previously unselected package libdatrie1:amd64.\n",
            "Preparing to unpack .../14-libdatrie1_0.2.10-5_amd64.deb ...\n",
            "Unpacking libdatrie1:amd64 (0.2.10-5) ...\n",
            "Selecting previously unselected package libthai0:amd64.\n",
            "Preparing to unpack .../15-libthai0_0.1.26-3_amd64.deb ...\n",
            "Unpacking libthai0:amd64 (0.1.26-3) ...\n",
            "Selecting previously unselected package libpango-1.0-0:amd64.\n",
            "Preparing to unpack .../16-libpango-1.0-0_1.40.12-1_amd64.deb ...\n",
            "Unpacking libpango-1.0-0:amd64 (1.40.12-1) ...\n",
            "Selecting previously unselected package libgraphite2-3:amd64.\n",
            "Preparing to unpack .../17-libgraphite2-3_1.3.10-2_amd64.deb ...\n",
            "Unpacking libgraphite2-3:amd64 (1.3.10-2) ...\n",
            "Selecting previously unselected package libharfbuzz0b:amd64.\n",
            "Preparing to unpack .../18-libharfbuzz0b_1.4.2-1_amd64.deb ...\n",
            "Unpacking libharfbuzz0b:amd64 (1.4.2-1) ...\n",
            "Selecting previously unselected package libpangoft2-1.0-0:amd64.\n",
            "Preparing to unpack .../19-libpangoft2-1.0-0_1.40.12-1_amd64.deb ...\n",
            "Unpacking libpangoft2-1.0-0:amd64 (1.40.12-1) ...\n",
            "Selecting previously unselected package libpangocairo-1.0-0:amd64.\n",
            "Preparing to unpack .../20-libpangocairo-1.0-0_1.40.12-1_amd64.deb ...\n",
            "Unpacking libpangocairo-1.0-0:amd64 (1.40.12-1) ...\n",
            "Selecting previously unselected package libpathplan4.\n",
            "Preparing to unpack .../21-libpathplan4_2.38.0-16ubuntu2_amd64.deb ...\n",
            "Unpacking libpathplan4 (2.38.0-16ubuntu2) ...\n",
            "Selecting previously unselected package libgvc6.\n",
            "Preparing to unpack .../22-libgvc6_2.38.0-16ubuntu2_amd64.deb ...\n",
            "Unpacking libgvc6 (2.38.0-16ubuntu2) ...\n",
            "Selecting previously unselected package libgvpr2.\n",
            "Preparing to unpack .../23-libgvpr2_2.38.0-16ubuntu2_amd64.deb ...\n",
            "Unpacking libgvpr2 (2.38.0-16ubuntu2) ...\n",
            "Selecting previously unselected package libxt6:amd64.\n",
            "Preparing to unpack .../24-libxt6_1%3a1.1.5-1_amd64.deb ...\n",
            "Unpacking libxt6:amd64 (1:1.1.5-1) ...\n",
            "Selecting previously unselected package libxmu6:amd64.\n",
            "Preparing to unpack .../25-libxmu6_2%3a1.1.2-2_amd64.deb ...\n",
            "Unpacking libxmu6:amd64 (2:1.1.2-2) ...\n",
            "Selecting previously unselected package libxaw7:amd64.\n",
            "Preparing to unpack .../26-libxaw7_2%3a1.0.13-1_amd64.deb ...\n",
            "Unpacking libxaw7:amd64 (2:1.0.13-1) ...\n",
            "Selecting previously unselected package graphviz.\n",
            "Preparing to unpack .../27-graphviz_2.38.0-16ubuntu2_amd64.deb ...\n",
            "Unpacking graphviz (2.38.0-16ubuntu2) ...\n",
            "Setting up libpathplan4 (2.38.0-16ubuntu2) ...\n",
            "Setting up libxcb-render0:amd64 (1.12-1ubuntu1) ...\n",
            "Setting up libjbig0:amd64 (2.1-3.1) ...\n",
            "Setting up libdatrie1:amd64 (0.2.10-5) ...\n",
            "Setting up libtiff5:amd64 (4.0.8-5ubuntu0.1) ...\n",
            "Setting up libgraphite2-3:amd64 (1.3.10-2) ...\n",
            "Setting up libpixman-1-0:amd64 (0.34.0-1) ...\n",
            "Processing triggers for libc-bin (2.26-0ubuntu2.1) ...\n"
          ],
          "name": "stdout"
        },
        {
          "output_type": "stream",
          "text": [
            "Setting up libltdl7:amd64 (2.4.6-2) ...\n",
            "Setting up libxcb-shm0:amd64 (1.12-1ubuntu1) ...\n",
            "Setting up libxpm4:amd64 (1:3.5.12-1) ...\n",
            "Setting up libxt6:amd64 (1:1.1.5-1) ...\n",
            "Setting up libthai-data (0.1.26-3) ...\n",
            "Setting up libcdt5 (2.38.0-16ubuntu2) ...\n",
            "Setting up fontconfig (2.11.94-0ubuntu2) ...\n",
            "Regenerating fonts cache... done.\n",
            "Setting up libcgraph6 (2.38.0-16ubuntu2) ...\n",
            "Setting up libwebp6:amd64 (0.6.0-3) ...\n",
            "Setting up libcairo2:amd64 (1.14.10-1ubuntu1) ...\n",
            "Setting up libgvpr2 (2.38.0-16ubuntu2) ...\n",
            "Setting up libgd3:amd64 (2.2.5-3) ...\n",
            "Setting up libharfbuzz0b:amd64 (1.4.2-1) ...\n",
            "Setting up libthai0:amd64 (0.1.26-3) ...\n",
            "Setting up libxmu6:amd64 (2:1.1.2-2) ...\n",
            "Setting up libpango-1.0-0:amd64 (1.40.12-1) ...\n",
            "Setting up libxaw7:amd64 (2:1.0.13-1) ...\n",
            "Setting up libpangoft2-1.0-0:amd64 (1.40.12-1) ...\n",
            "Setting up libpangocairo-1.0-0:amd64 (1.40.12-1) ...\n",
            "Setting up libgvc6 (2.38.0-16ubuntu2) ...\n",
            "Setting up graphviz (2.38.0-16ubuntu2) ...\n",
            "Processing triggers for libc-bin (2.26-0ubuntu2.1) ...\n"
          ],
          "name": "stdout"
        },
        {
          "output_type": "stream",
          "text": [
            "Using TensorFlow backend.\n"
          ],
          "name": "stderr"
        }
      ]
    },
    {
      "metadata": {
        "id": "JflMiywRgEzV",
        "colab_type": "text"
      },
      "cell_type": "markdown",
      "source": [
        "### Confirm Tensorflow and GPU Support"
      ]
    },
    {
      "metadata": {
        "id": "g8hqweEIgDzR",
        "colab_type": "code",
        "colab": {
          "autoexec": {
            "startup": false,
            "wait_interval": 0
          },
          "base_uri": "https://localhost:8080/",
          "height": 35
        },
        "outputId": "c8714686-15f9-44ac-f992-69a7a4a5c224",
        "executionInfo": {
          "status": "ok",
          "timestamp": 1524504002755,
          "user_tz": 300,
          "elapsed": 1113,
          "user": {
            "displayName": "Andrew Spittlemeister",
            "photoUrl": "//lh5.googleusercontent.com/-K1fqqvWvozY/AAAAAAAAAAI/AAAAAAAAABg/Kh4T3wfzofk/s50-c-k-no/photo.jpg",
            "userId": "116305124686982070571"
          }
        }
      },
      "cell_type": "code",
      "source": [
        "K.tensorflow_backend._get_available_gpus()"
      ],
      "execution_count": 2,
      "outputs": [
        {
          "output_type": "execute_result",
          "data": {
            "text/plain": [
              "['/job:localhost/replica:0/task:0/device:GPU:0']"
            ]
          },
          "metadata": {
            "tags": []
          },
          "execution_count": 2
        }
      ]
    },
    {
      "metadata": {
        "id": "QmoB29nwhcWG",
        "colab_type": "code",
        "colab": {
          "autoexec": {
            "startup": false,
            "wait_interval": 0
          },
          "base_uri": "https://localhost:8080/",
          "height": 287
        },
        "outputId": "7d7a80cb-f2f5-4fde-9cd8-8c8a28a8563b",
        "executionInfo": {
          "status": "ok",
          "timestamp": 1524504003649,
          "user_tz": 300,
          "elapsed": 397,
          "user": {
            "displayName": "Andrew Spittlemeister",
            "photoUrl": "//lh5.googleusercontent.com/-K1fqqvWvozY/AAAAAAAAAAI/AAAAAAAAABg/Kh4T3wfzofk/s50-c-k-no/photo.jpg",
            "userId": "116305124686982070571"
          }
        }
      },
      "cell_type": "code",
      "source": [
        "device_lib.list_local_devices()"
      ],
      "execution_count": 3,
      "outputs": [
        {
          "output_type": "execute_result",
          "data": {
            "text/plain": [
              "[name: \"/device:CPU:0\"\n",
              " device_type: \"CPU\"\n",
              " memory_limit: 268435456\n",
              " locality {\n",
              " }\n",
              " incarnation: 6458463337310068377, name: \"/device:GPU:0\"\n",
              " device_type: \"GPU\"\n",
              " memory_limit: 11288900404\n",
              " locality {\n",
              "   bus_id: 1\n",
              "   links {\n",
              "   }\n",
              " }\n",
              " incarnation: 7677106190574175192\n",
              " physical_device_desc: \"device: 0, name: Tesla K80, pci bus id: 0000:00:04.0, compute capability: 3.7\"]"
            ]
          },
          "metadata": {
            "tags": []
          },
          "execution_count": 3
        }
      ]
    },
    {
      "metadata": {
        "id": "jdl9GUXBi-Tn",
        "colab_type": "code",
        "colab": {
          "autoexec": {
            "startup": false,
            "wait_interval": 0
          },
          "base_uri": "https://localhost:8080/",
          "height": 35
        },
        "outputId": "9f2a3aef-5c9e-4556-bc27-c48cd9354eb5",
        "executionInfo": {
          "status": "ok",
          "timestamp": 1524504004912,
          "user_tz": 300,
          "elapsed": 390,
          "user": {
            "displayName": "Andrew Spittlemeister",
            "photoUrl": "//lh5.googleusercontent.com/-K1fqqvWvozY/AAAAAAAAAAI/AAAAAAAAABg/Kh4T3wfzofk/s50-c-k-no/photo.jpg",
            "userId": "116305124686982070571"
          }
        }
      },
      "cell_type": "code",
      "source": [
        "tf.test.gpu_device_name()"
      ],
      "execution_count": 4,
      "outputs": [
        {
          "output_type": "execute_result",
          "data": {
            "text/plain": [
              "'/device:GPU:0'"
            ]
          },
          "metadata": {
            "tags": []
          },
          "execution_count": 4
        }
      ]
    },
    {
      "metadata": {
        "id": "kgnZB2Ic7mNf",
        "colab_type": "text"
      },
      "cell_type": "markdown",
      "source": [
        "## Helper Functions"
      ]
    },
    {
      "metadata": {
        "id": "NpQxP2CQ7uUk",
        "colab_type": "code",
        "colab": {
          "autoexec": {
            "startup": false,
            "wait_interval": 0
          }
        }
      },
      "cell_type": "code",
      "source": [
        "def uploadFiles():\n",
        "  uploaded = files.upload()\n",
        "\n",
        "  for fn in uploaded.keys():\n",
        "    print('User uploaded file \"{name}\" with length {length} bytes'.format(\n",
        "        name=fn, length=len(uploaded[fn])))\n",
        "    \n",
        "  filenames = list(uploaded.keys())\n",
        "  for f in filenames:\n",
        "    data = str(uploaded[f], 'utf-8')\n",
        "    file = open(f, 'w')\n",
        "    file.write(data)\n",
        "    file.close()\n",
        "\n",
        "def pullImage(frame, index: int):\n",
        "  \"\"\"\n",
        "  Takes in a pandas data frame object and an index and returns the 48 x 48 pixel\n",
        "  matrix as well as the label for the type of emotion.\n",
        "  \"\"\"\n",
        "  img = frame.loc[index]['pixels'].split(' ')\n",
        "  img = np.array([np.int(i) for i in img])\n",
        "  img.resize(48,48)\n",
        "  label = np.uint8(frame.loc[index]['emotion'])\n",
        "  \n",
        "  return img, label\n",
        "\n",
        "def splitImage_Labels(frame):\n",
        "  \"\"\"\n",
        "  Takes in a pandas data frame object filled with pixel field and label field \n",
        "  and returns two numpy arrays; one for images and one for labels.\n",
        "  \"\"\"\n",
        "  labels = np.empty(len(frame))\n",
        "  images = np.empty((len(frame), 48, 48, 1))  # using channel last notation.\n",
        "  \n",
        "  for i in range(len(frame)):\n",
        "    img, lbl = pullImage(frame, i)\n",
        "    img = np.reshape(img, (48,48,1))\n",
        "    images[i], labels[i] = img, lbl\n",
        "    \n",
        "  return images.astype(np.uint8), to_categorical(labels, 7).astype(np.uint8)\n",
        "\n"
      ],
      "execution_count": 0,
      "outputs": []
    },
    {
      "metadata": {
        "id": "WTphsC2XxlyZ",
        "colab_type": "text"
      },
      "cell_type": "markdown",
      "source": [
        "## Import FER2013 Dataset and Other Files"
      ]
    },
    {
      "metadata": {
        "id": "N-ZeSYO5xlWL",
        "colab_type": "code",
        "colab": {
          "autoexec": {
            "startup": false,
            "wait_interval": 0
          }
        }
      },
      "cell_type": "code",
      "source": [
        "# Authenticate and create the PyDrive client.\n",
        "auth.authenticate_user()\n",
        "gauth = GoogleAuth()\n",
        "gauth.credentials = GoogleCredentials.get_application_default()\n",
        "drive = GoogleDrive(gauth)"
      ],
      "execution_count": 0,
      "outputs": []
    },
    {
      "metadata": {
        "id": "BTUTZvh5ya2r",
        "colab_type": "code",
        "colab": {
          "autoexec": {
            "startup": false,
            "wait_interval": 0
          }
        }
      },
      "cell_type": "code",
      "source": [
        "fer2013 = drive.CreateFile({'id':'1Xdlvej7eXaVcfCf3CsQ1LcSFAiNx_63c'})"
      ],
      "execution_count": 0,
      "outputs": []
    },
    {
      "metadata": {
        "id": "_nTDy06Cza-A",
        "colab_type": "code",
        "colab": {
          "autoexec": {
            "startup": false,
            "wait_interval": 0
          }
        }
      },
      "cell_type": "code",
      "source": [
        "fer2013.GetContentFile('fer2013file.csv')"
      ],
      "execution_count": 0,
      "outputs": []
    },
    {
      "metadata": {
        "id": "PzXQz_Xw2zPF",
        "colab_type": "text"
      },
      "cell_type": "markdown",
      "source": [
        "Save file as a pandas dataframe."
      ]
    },
    {
      "metadata": {
        "id": "IjjF8_DZ1PWv",
        "colab_type": "code",
        "colab": {
          "autoexec": {
            "startup": false,
            "wait_interval": 0
          }
        }
      },
      "cell_type": "code",
      "source": [
        "df = pd.read_csv('fer2013file.csv')"
      ],
      "execution_count": 0,
      "outputs": []
    },
    {
      "metadata": {
        "id": "ZmOFO3Dd24uE",
        "colab_type": "text"
      },
      "cell_type": "markdown",
      "source": [
        "## Parse Data\n",
        "\n",
        "Each image is a 48 x 48 grayscale photo.\n",
        "\n",
        "The contents of pixel string are space-separated pixel values in row major order.\n",
        "\n",
        "Emotional assignment convention:\n",
        "\n",
        "\n",
        "*   0 = Angry\n",
        "*   1 = Disgust\n",
        "*   2 = Fear\n",
        "*   3 = Happy\n",
        "*   4 = Sad\n",
        "*   5 = Surprise\n",
        "*   6 = Neutral\n"
      ]
    },
    {
      "metadata": {
        "id": "UJOf_ev33TkW",
        "colab_type": "code",
        "colab": {
          "autoexec": {
            "startup": false,
            "wait_interval": 0
          }
        }
      },
      "cell_type": "code",
      "source": [
        "df_Training = df[df.Usage == 'Training']\n",
        "df_Testing = df[df.Usage == 'PrivateTest'].reset_index(drop = True)\n",
        "img_train, lbl_train = splitImage_Labels(df_Training)\n",
        "img_test, lbl_test = splitImage_Labels(df_Testing)"
      ],
      "execution_count": 0,
      "outputs": []
    },
    {
      "metadata": {
        "id": "tHGmGRgY3wz9",
        "colab_type": "code",
        "colab": {
          "autoexec": {
            "startup": false,
            "wait_interval": 0
          },
          "base_uri": "https://localhost:8080/",
          "height": 125
        },
        "outputId": "13f20591-488d-43c1-dafd-9a250b77a610",
        "executionInfo": {
          "status": "ok",
          "timestamp": 1524504106240,
          "user_tz": 300,
          "elapsed": 299,
          "user": {
            "displayName": "Andrew Spittlemeister",
            "photoUrl": "//lh5.googleusercontent.com/-K1fqqvWvozY/AAAAAAAAAAI/AAAAAAAAABg/Kh4T3wfzofk/s50-c-k-no/photo.jpg",
            "userId": "116305124686982070571"
          }
        }
      },
      "cell_type": "code",
      "source": [
        "print('Type and Shape of Image Datasets: ' + '\\n\\tTraining: ' + '\\t' + \n",
        "      str(type(img_train[0][0][0][0])) + '\\t' + str(img_train.shape) + \n",
        "      '\\n\\tTesting: ' + '\\t' + str(type(img_train[0][0][0][0])) + '\\t' + \n",
        "      str(img_test.shape))\n",
        "print('Type and Shape of Image Datasets: ' + '\\n\\tTraining: ' + '\\t' + \n",
        "      str(type(lbl_train[0][0])) + '\\t' + str(lbl_train.shape) + \n",
        "      '\\n\\tTesting: ' + '\\t' + str(type(lbl_train[0][0])) + '\\t' + \n",
        "      str(lbl_test.shape))"
      ],
      "execution_count": 11,
      "outputs": [
        {
          "output_type": "stream",
          "text": [
            "Type and Shape of Image Datasets: \n",
            "\tTraining: \t<class 'numpy.uint8'>\t(28709, 48, 48, 1)\n",
            "\tTesting: \t<class 'numpy.uint8'>\t(3589, 48, 48, 1)\n",
            "Type and Shape of Image Datasets: \n",
            "\tTraining: \t<class 'numpy.uint8'>\t(28709, 7)\n",
            "\tTesting: \t<class 'numpy.uint8'>\t(3589, 7)\n"
          ],
          "name": "stdout"
        }
      ]
    },
    {
      "metadata": {
        "id": "fo6-sDDTwNLR",
        "colab_type": "text"
      },
      "cell_type": "markdown",
      "source": [
        "### Save Data to .npy Files"
      ]
    },
    {
      "metadata": {
        "id": "SRO8zjAov1ft",
        "colab_type": "code",
        "colab": {
          "autoexec": {
            "startup": false,
            "wait_interval": 0
          }
        },
        "cellView": "code"
      },
      "cell_type": "code",
      "source": [
        "#np.save('img_train.npy', img_train)\n",
        "#np.save('lbl_train.npy', lbl_train)\n",
        "#np.save('img_test.npy', img_test)\n",
        "#np.save('lbl_test.npy', img_test)"
      ],
      "execution_count": 0,
      "outputs": []
    },
    {
      "metadata": {
        "id": "xgeOM-EMyNG7",
        "colab_type": "text"
      },
      "cell_type": "markdown",
      "source": [
        "### Verify Image Import"
      ]
    },
    {
      "metadata": {
        "id": "aipE_NIKyV6Q",
        "colab_type": "code",
        "colab": {
          "autoexec": {
            "startup": false,
            "wait_interval": 0
          },
          "base_uri": "https://localhost:8080/",
          "height": 381
        },
        "outputId": "dde5a7e9-cdc9-4124-c040-5e112f6f48e8",
        "executionInfo": {
          "status": "ok",
          "timestamp": 1524504114076,
          "user_tz": 300,
          "elapsed": 510,
          "user": {
            "displayName": "Andrew Spittlemeister",
            "photoUrl": "//lh5.googleusercontent.com/-K1fqqvWvozY/AAAAAAAAAAI/AAAAAAAAABg/Kh4T3wfzofk/s50-c-k-no/photo.jpg",
            "userId": "116305124686982070571"
          }
        }
      },
      "cell_type": "code",
      "source": [
        "plt.imshow(np.reshape(img_train[0], (48,48)))\n",
        "plt.title('Training Image 1 (with label ' + str(lbl_train[0]) + ')')"
      ],
      "execution_count": 12,
      "outputs": [
        {
          "output_type": "execute_result",
          "data": {
            "text/plain": [
              "Text(0.5,1,'Training Image 1 (with label [1 0 0 0 0 0 0])')"
            ]
          },
          "metadata": {
            "tags": []
          },
          "execution_count": 12
        },
        {
          "output_type": "display_data",
          "data": {
            "image/png": "[encoded data removed]",
            "text/plain": [
              "<matplotlib.figure.Figure at 0x7f9e9dbe6a20>"
            ]
          },
          "metadata": {
            "tags": []
          }
        }
      ]
    },
    {
      "metadata": {
        "id": "A0_K_CHbybQM",
        "colab_type": "code",
        "colab": {
          "autoexec": {
            "startup": false,
            "wait_interval": 0
          },
          "base_uri": "https://localhost:8080/",
          "height": 381
        },
        "outputId": "af6e7298-a8bf-4b68-e30f-820309379393",
        "executionInfo": {
          "status": "ok",
          "timestamp": 1524504115950,
          "user_tz": 300,
          "elapsed": 531,
          "user": {
            "displayName": "Andrew Spittlemeister",
            "photoUrl": "//lh5.googleusercontent.com/-K1fqqvWvozY/AAAAAAAAAAI/AAAAAAAAABg/Kh4T3wfzofk/s50-c-k-no/photo.jpg",
            "userId": "116305124686982070571"
          }
        }
      },
      "cell_type": "code",
      "source": [
        "plt.imshow(np.reshape(img_test[0], (48,48)))\n",
        "plt.title('Training Image 1 (with label ' + str(lbl_test[0]) + ')')"
      ],
      "execution_count": 13,
      "outputs": [
        {
          "output_type": "execute_result",
          "data": {
            "text/plain": [
              "Text(0.5,1,'Training Image 1 (with label [1 0 0 0 0 0 0])')"
            ]
          },
          "metadata": {
            "tags": []
          },
          "execution_count": 13
        },
        {
          "output_type": "display_data",
          "data": {
            "image/png": "[encoded data removed]",
            "text/plain": [
              "<matplotlib.figure.Figure at 0x7f9e9db9b6a0>"
            ]
          },
          "metadata": {
            "tags": []
          }
        }
      ]
    },
    {
      "metadata": {
        "id": "_rDLckAIEZFV",
        "colab_type": "text"
      },
      "cell_type": "markdown",
      "source": [
        "## Build Convolutional Neural Network Model\n"
      ]
    },
    {
      "metadata": {
        "id": "oNWKGGZ4yiIh",
        "colab_type": "code",
        "colab": {
          "autoexec": {
            "startup": false,
            "wait_interval": 0
          }
        }
      },
      "cell_type": "code",
      "source": [
        "model = Sequential()"
      ],
      "execution_count": 0,
      "outputs": []
    },
    {
      "metadata": {
        "id": "eYHZhTL0OelS",
        "colab_type": "text"
      },
      "cell_type": "markdown",
      "source": [
        "### Phase 1\n",
        "- Convolutional and Max Pooling Phase.\n",
        "- **Kernal Size: 5x5**\n",
        "- **Ouput Filters: 40**\n",
        "- **Stride: 1 (default)**\n",
        "- **Active Padding**"
      ]
    },
    {
      "metadata": {
        "id": "0mgaSdS92y0c",
        "colab_type": "code",
        "colab": {
          "autoexec": {
            "startup": false,
            "wait_interval": 0
          }
        }
      },
      "cell_type": "code",
      "source": [
        "outputFilters = 40\n",
        "kernelSize = 5\n",
        "\n",
        "model.add(Conv2D(outputFilters, kernelSize, padding='same', activation='relu',\n",
        "                 input_shape=img_train[0].shape))\n",
        "model.add(Conv2D(outputFilters, kernelSize, padding='same', activation='relu'))\n",
        "model.add(Conv2D(outputFilters, kernelSize, padding='same', activation='relu'))\n",
        "\n",
        "model.add(MaxPooling2D(pool_size=(2, 2)))"
      ],
      "execution_count": 0,
      "outputs": []
    },
    {
      "metadata": {
        "id": "WSK3eqGgPvgl",
        "colab_type": "text"
      },
      "cell_type": "markdown",
      "source": [
        "### Phase 2\n",
        "- Convolutional and Max Pooling Phase.\n",
        "- **Kernal Size: 5x5**\n",
        "- **Ouput Filters: 60**\n",
        "- **Stride: 1 (default)**\n",
        "- **Active Padding**\n"
      ]
    },
    {
      "metadata": {
        "id": "HKiKDZR5RbZX",
        "colab_type": "code",
        "colab": {
          "autoexec": {
            "startup": false,
            "wait_interval": 0
          }
        }
      },
      "cell_type": "code",
      "source": [
        "outputFilters = 60\n",
        "kernelSize = 5 \n",
        "\n",
        "model.add(Conv2D(outputFilters, kernelSize, padding='same', activation='relu'))\n",
        "model.add(Conv2D(outputFilters, kernelSize, padding='same', activation='relu'))\n",
        "model.add(Conv2D(outputFilters, kernelSize, padding='same', activation='relu'))\n",
        "\n",
        "model.add(MaxPooling2D(pool_size=(2, 2)))"
      ],
      "execution_count": 0,
      "outputs": []
    },
    {
      "metadata": {
        "id": "5Y_2TmCBWIU7",
        "colab_type": "text"
      },
      "cell_type": "markdown",
      "source": [
        "### Phase 3\n",
        "- Locally-Connected Convlutional Filtering Phase.\n",
        "  - The locally-connected layer works similarly to the traditional 2D convolutional layer, except that weights are unshared, that is, a different set of filters is applied at each different patch of the input.\n",
        "- **Ouput Filters: 100**\n",
        "- **Kernal Size: 3x3**\n",
        "- **Stride: 1 (default)**\n",
        "- **Non-Active Padding**"
      ]
    },
    {
      "metadata": {
        "id": "VL9bXA3AWVzN",
        "colab_type": "code",
        "colab": {
          "autoexec": {
            "startup": false,
            "wait_interval": 0
          }
        }
      },
      "cell_type": "code",
      "source": [
        "outputFilters = 100\n",
        "kernelSize = 3\n",
        "\n",
        "model.add(LocallyConnected2D(outputFilters, kernelSize, padding='valid', activation='relu'))\n",
        "model.add(LocallyConnected2D(outputFilters, kernelSize, padding='valid', activation='relu'))"
      ],
      "execution_count": 0,
      "outputs": []
    },
    {
      "metadata": {
        "id": "FONL6av6R88J",
        "colab_type": "text"
      },
      "cell_type": "markdown",
      "source": [
        "### Dense Layers"
      ]
    },
    {
      "metadata": {
        "id": "0w88kqYWPeaA",
        "colab_type": "code",
        "colab": {
          "autoexec": {
            "startup": false,
            "wait_interval": 0
          },
          "base_uri": "https://localhost:8080/",
          "height": 683
        },
        "outputId": "788d1800-96f8-4cb5-9895-17d6cc0046fe",
        "executionInfo": {
          "status": "ok",
          "timestamp": 1524505608843,
          "user_tz": 300,
          "elapsed": 309,
          "user": {
            "displayName": "Andrew Spittlemeister",
            "photoUrl": "//lh5.googleusercontent.com/-K1fqqvWvozY/AAAAAAAAAAI/AAAAAAAAABg/Kh4T3wfzofk/s50-c-k-no/photo.jpg",
            "userId": "116305124686982070571"
          }
        }
      },
      "cell_type": "code",
      "source": [
        "layerSize = 64\n",
        "\n",
        "model.add(Flatten())\n",
        "model.add(Dense(layerSize, activation='relu'))\n",
        "model.add(Dropout(0.5))\n",
        "model.add(Dense(layerSize, activation='relu'))\n",
        "model.add(Dense(7, activation='softmax'))\n",
        "\n",
        "model.summary()"
      ],
      "execution_count": 43,
      "outputs": [
        {
          "output_type": "stream",
          "text": [
            "_________________________________________________________________\n",
            "Layer (type)                 Output Shape              Param #   \n",
            "=================================================================\n",
            "conv2d_7 (Conv2D)            (None, 48, 48, 40)        1040      \n",
            "_________________________________________________________________\n",
            "conv2d_8 (Conv2D)            (None, 48, 48, 40)        40040     \n",
            "_________________________________________________________________\n",
            "conv2d_9 (Conv2D)            (None, 48, 48, 40)        40040     \n",
            "_________________________________________________________________\n",
            "max_pooling2d_3 (MaxPooling2 (None, 24, 24, 40)        0         \n",
            "_________________________________________________________________\n",
            "conv2d_10 (Conv2D)           (None, 24, 24, 60)        60060     \n",
            "_________________________________________________________________\n",
            "conv2d_11 (Conv2D)           (None, 24, 24, 60)        90060     \n",
            "_________________________________________________________________\n",
            "conv2d_12 (Conv2D)           (None, 24, 24, 60)        90060     \n",
            "_________________________________________________________________\n",
            "max_pooling2d_4 (MaxPooling2 (None, 12, 12, 60)        0         \n",
            "_________________________________________________________________\n",
            "locally_connected2d_3 (Local (None, 10, 10, 100)       5410000   \n",
            "_________________________________________________________________\n",
            "locally_connected2d_4 (Local (None, 8, 8, 100)         5766400   \n",
            "_________________________________________________________________\n",
            "flatten_2 (Flatten)          (None, 6400)              0         \n",
            "_________________________________________________________________\n",
            "dense_4 (Dense)              (None, 64)                409664    \n",
            "_________________________________________________________________\n",
            "dropout_3 (Dropout)          (None, 64)                0         \n",
            "_________________________________________________________________\n",
            "dense_5 (Dense)              (None, 64)                4160      \n",
            "_________________________________________________________________\n",
            "dense_6 (Dense)              (None, 7)                 455       \n",
            "=================================================================\n",
            "Total params: 11,911,979\n",
            "Trainable params: 11,911,979\n",
            "Non-trainable params: 0\n",
            "_________________________________________________________________\n"
          ],
          "name": "stdout"
        }
      ]
    },
    {
      "metadata": {
        "id": "jDuO6b3-VvWv",
        "colab_type": "text"
      },
      "cell_type": "markdown",
      "source": [
        "## Compile, Train, and Evaluate the Model"
      ]
    },
    {
      "metadata": {
        "id": "Qmbs8JeSV0a1",
        "colab_type": "code",
        "colab": {
          "autoexec": {
            "startup": false,
            "wait_interval": 0
          },
          "base_uri": "https://localhost:8080/",
          "height": 811
        },
        "outputId": "b6c959cf-29a2-40c0-e262-5b4ac526161b",
        "executionInfo": {
          "status": "ok",
          "timestamp": 1524506071839,
          "user_tz": 300,
          "elapsed": 459181,
          "user": {
            "displayName": "Andrew Spittlemeister",
            "photoUrl": "//lh5.googleusercontent.com/-K1fqqvWvozY/AAAAAAAAAAI/AAAAAAAAABg/Kh4T3wfzofk/s50-c-k-no/photo.jpg",
            "userId": "116305124686982070571"
          }
        }
      },
      "cell_type": "code",
      "source": [
        "batchSize = 200\n",
        "trainingEpochs = 50\n",
        "\n",
        "model.compile(optimizer='adam', loss='categorical_crossentropy',\n",
        "              metrics=['accuracy'])\n",
        "\n",
        "early_stopping = EarlyStopping(monitor='val_loss', patience=5, verbose=1)\n",
        "\n",
        "trainingHistory = model.fit(img_train, lbl_train, batch_size=batchSize, \n",
        "                            epochs=trainingEpochs,\n",
        "                            validation_split=0.3, \n",
        "                            callbacks=[early_stopping], \n",
        "                            shuffle=True,)\n",
        "\n",
        "trainingAccuracy = trainingHistory.history['acc']\n",
        "validationAccuracy = trainingHistory.history['val_acc']\n",
        "print(\"Done Training: \")\n",
        "print('Final Training Accuracy: ', trainingAccuracy[-1])\n",
        "print('Final Validation Accuracy: ', validationAccuracy[-1])\n",
        "print('Overfit Ratio: ', validationAccuracy[-1]/trainingAccuracy[-1])\n",
        "\n",
        "metrics = model.evaluate(img_test, lbl_test, batch_size=batchSize, verbose=1)\n",
        "print('Evaluation Loss: ', metrics[0])\n",
        "print('Evaluation Accuracy: ', metrics[1])"
      ],
      "execution_count": 44,
      "outputs": [
        {
          "output_type": "stream",
          "text": [
            "Train on 20096 samples, validate on 8613 samples\n",
            "Epoch 1/50\n",
            "20096/20096 [==============================] - 29s 1ms/step - loss: 1.9219 - acc: 0.2317 - val_loss: 1.8137 - val_acc: 0.2529\n",
            "Epoch 2/50\n",
            "20096/20096 [==============================] - 27s 1ms/step - loss: 1.8001 - acc: 0.2595 - val_loss: 1.7060 - val_acc: 0.3193\n",
            "Epoch 3/50\n",
            "20096/20096 [==============================] - 27s 1ms/step - loss: 1.7166 - acc: 0.2998 - val_loss: 1.6264 - val_acc: 0.3560\n",
            "Epoch 4/50\n",
            " 4800/20096 [======>.......................] - ETA: 18s - loss: 1.6531 - acc: 0.3335"
          ],
          "name": "stdout"
        },
        {
          "output_type": "stream",
          "text": [
            "20096/20096 [==============================] - 27s 1ms/step - loss: 1.6384 - acc: 0.3433 - val_loss: 1.5926 - val_acc: 0.3756\n",
            "Epoch 5/50\n",
            "20096/20096 [==============================] - 27s 1ms/step - loss: 1.5620 - acc: 0.3793 - val_loss: 1.5275 - val_acc: 0.4018\n",
            "Epoch 6/50\n",
            "20096/20096 [==============================] - 27s 1ms/step - loss: 1.5022 - acc: 0.3981 - val_loss: 1.4832 - val_acc: 0.4353\n",
            "Epoch 7/50\n",
            "13600/20096 [===================>..........] - ETA: 7s - loss: 1.4476 - acc: 0.4220"
          ],
          "name": "stdout"
        },
        {
          "output_type": "stream",
          "text": [
            "20096/20096 [==============================] - 27s 1ms/step - loss: 1.4459 - acc: 0.4221 - val_loss: 1.4475 - val_acc: 0.4445\n",
            "Epoch 8/50\n",
            "20096/20096 [==============================] - 27s 1ms/step - loss: 1.3787 - acc: 0.4510 - val_loss: 1.4516 - val_acc: 0.4578\n",
            "Epoch 9/50\n",
            "20096/20096 [==============================] - 27s 1ms/step - loss: 1.3327 - acc: 0.4690 - val_loss: 1.3968 - val_acc: 0.4689\n",
            "Epoch 10/50\n",
            "15200/20096 [=====================>........] - ETA: 5s - loss: 1.2654 - acc: 0.4971"
          ],
          "name": "stdout"
        },
        {
          "output_type": "stream",
          "text": [
            "20096/20096 [==============================] - 27s 1ms/step - loss: 1.2703 - acc: 0.4969 - val_loss: 1.4492 - val_acc: 0.4856\n",
            "Epoch 11/50\n",
            "20096/20096 [==============================] - 27s 1ms/step - loss: 1.2318 - acc: 0.5121 - val_loss: 1.4186 - val_acc: 0.4963\n",
            "Epoch 12/50\n",
            "20096/20096 [==============================] - 27s 1ms/step - loss: 1.1483 - acc: 0.5464 - val_loss: 1.3899 - val_acc: 0.4994\n",
            "Epoch 13/50\n",
            "15200/20096 [=====================>........] - ETA: 5s - loss: 1.0800 - acc: 0.5714"
          ],
          "name": "stdout"
        },
        {
          "output_type": "stream",
          "text": [
            "20096/20096 [==============================] - 27s 1ms/step - loss: 1.0767 - acc: 0.5744 - val_loss: 1.4243 - val_acc: 0.5157\n",
            "Epoch 14/50\n",
            "20096/20096 [==============================] - 27s 1ms/step - loss: 0.9962 - acc: 0.6104 - val_loss: 1.4531 - val_acc: 0.5280\n",
            "Epoch 15/50\n",
            "20096/20096 [==============================] - 27s 1ms/step - loss: 0.9303 - acc: 0.6380 - val_loss: 1.4858 - val_acc: 0.5381\n",
            "Epoch 16/50\n",
            "15200/20096 [=====================>........] - ETA: 5s - loss: 0.8613 - acc: 0.6674"
          ],
          "name": "stdout"
        },
        {
          "output_type": "stream",
          "text": [
            "20096/20096 [==============================] - 27s 1ms/step - loss: 0.8625 - acc: 0.6659 - val_loss: 1.5306 - val_acc: 0.5366\n",
            "Epoch 17/50\n",
            "20096/20096 [==============================] - 27s 1ms/step - loss: 0.7971 - acc: 0.6948 - val_loss: 1.5623 - val_acc: 0.5368\n",
            "Epoch 00017: early stopping\n",
            "Done Training: \n",
            "Final Training Accuracy:  0.6948148870401701\n",
            "Final Validation Accuracy:  0.5368373401831019\n",
            "Overfit Ratio:  0.7726336182\n",
            "3589/3589 [==============================] - 1s 357us/step\n",
            "Evaluation Accuracy:  0.53258567856161266\n"
          ],
          "name": "stdout"
        }
      ]
    },
    {
      "metadata": {
        "id": "XQbsgGFmu0_I",
        "colab_type": "text"
      },
      "cell_type": "markdown",
      "source": [
        "## Predictions"
      ]
    },
    {
      "metadata": {
        "id": "kSuDBzAylbLR",
        "colab_type": "code",
        "colab": {
          "autoexec": {
            "startup": false,
            "wait_interval": 0
          }
        }
      },
      "cell_type": "code",
      "source": [
        "def predict(mdl, img):\n",
        "  emotions = ['Anger', 'Disgust', 'Fear', 'Happy', 'Sad', 'Surprise', 'Neutral']\n",
        "  im = np.zeros((1, 48, 48, 1))\n",
        "  im[0] = img\n",
        "  p = mdl.predict(im)\n",
        "\n",
        "  i = np.argmax(p)\n",
        "  \n",
        "  plt.imshow(np.reshape(img, (48,48)))\n",
        "  plt.title('Test Image (Predicted Label: ' + emotions[i] + ')')\n",
        "  return p"
      ],
      "execution_count": 0,
      "outputs": []
    },
    {
      "metadata": {
        "id": "3ICSJBk7-OwY",
        "colab_type": "code",
        "colab": {
          "autoexec": {
            "startup": false,
            "wait_interval": 0
          },
          "base_uri": "https://localhost:8080/",
          "height": 399
        },
        "outputId": "4618e8cb-cf24-4b78-f086-0533021f2531",
        "executionInfo": {
          "status": "ok",
          "timestamp": 1524511464124,
          "user_tz": 300,
          "elapsed": 465,
          "user": {
            "displayName": "Andrew Spittlemeister",
            "photoUrl": "//lh5.googleusercontent.com/-K1fqqvWvozY/AAAAAAAAAAI/AAAAAAAAABg/Kh4T3wfzofk/s50-c-k-no/photo.jpg",
            "userId": "116305124686982070571"
          }
        }
      },
      "cell_type": "code",
      "source": [
        "predict(model, img_test[12])"
      ],
      "execution_count": 277,
      "outputs": [
        {
          "output_type": "execute_result",
          "data": {
            "text/plain": [
              "array([[0.13312052, 0.00454683, 0.09957016, 0.00821611, 0.3444841 ,\n",
              "        0.00446442, 0.4055979 ]], dtype=float32)"
            ]
          },
          "metadata": {
            "tags": []
          },
          "execution_count": 277
        },
        {
          "output_type": "display_data",
          "data": {
            "image/png": "[encoded data removed]",
            "text/plain": [
              "<matplotlib.figure.Figure at 0x7f9e92f6ae10>"
            ]
          },
          "metadata": {
            "tags": []
          }
        }
      ]
    },
    {
      "metadata": {
        "id": "cT0VNp8zu42j",
        "colab_type": "text"
      },
      "cell_type": "markdown",
      "source": [
        "## Intermediate Layer Output"
      ]
    },
    {
      "metadata": {
        "id": "wM7e8ZcClhju",
        "colab_type": "code",
        "colab": {
          "autoexec": {
            "startup": false,
            "wait_interval": 0
          }
        }
      },
      "cell_type": "code",
      "source": [
        "layer0 = K.function([model.layers[0].input, K.learning_phase()],\n",
        "                                  [model.layers[0].output])\n",
        "layer1 = K.function([model.layers[0].input, K.learning_phase()],\n",
        "                                  [model.layers[1].output])\n",
        "layer3 = K.function([model.layers[0].input, K.learning_phase()],\n",
        "                                  [model.layers[3].output])\n",
        "layer7 = K.function([model.layers[0].input, K.learning_phase()],\n",
        "                                  [model.layers[7].output])"
      ],
      "execution_count": 0,
      "outputs": []
    },
    {
      "metadata": {
        "id": "QMsEprB5u_hr",
        "colab_type": "text"
      },
      "cell_type": "markdown",
      "source": [
        "- Image being used for this example:"
      ]
    },
    {
      "metadata": {
        "id": "oZp1GSOYnEqE",
        "colab_type": "code",
        "colab": {
          "autoexec": {
            "startup": false,
            "wait_interval": 0
          },
          "base_uri": "https://localhost:8080/",
          "height": 367
        },
        "outputId": "462ce2af-a3c3-45f3-f8e0-6665b8b08b64",
        "executionInfo": {
          "status": "ok",
          "timestamp": 1524507711428,
          "user_tz": 300,
          "elapsed": 368,
          "user": {
            "displayName": "Andrew Spittlemeister",
            "photoUrl": "//lh5.googleusercontent.com/-K1fqqvWvozY/AAAAAAAAAAI/AAAAAAAAABg/Kh4T3wfzofk/s50-c-k-no/photo.jpg",
            "userId": "116305124686982070571"
          }
        }
      },
      "cell_type": "code",
      "source": [
        "im = np.zeros((1, 48, 48, 1))\n",
        "im[0] = img_test[21]\n",
        "plt.imshow(np.reshape(img_test[21], (48,48)))"
      ],
      "execution_count": 118,
      "outputs": [
        {
          "output_type": "execute_result",
          "data": {
            "text/plain": [
              "<matplotlib.image.AxesImage at 0x7f9e964d6c88>"
            ]
          },
          "metadata": {
            "tags": []
          },
          "execution_count": 118
        },
        {
          "output_type": "display_data",
          "data": {
            "image/png": "[encoded data removed]",
            "text/plain": [
              "<matplotlib.figure.Figure at 0x7f9e9651f438>"
            ]
          },
          "metadata": {
            "tags": []
          }
        }
      ]
    },
    {
      "metadata": {
        "id": "XiH4l5lXw_NB",
        "colab_type": "text"
      },
      "cell_type": "markdown",
      "source": [
        "### Layer 0 (after first convolution)"
      ]
    },
    {
      "metadata": {
        "id": "YM5rbCGvxA9H",
        "colab_type": "code",
        "colab": {
          "autoexec": {
            "startup": false,
            "wait_interval": 0
          },
          "base_uri": "https://localhost:8080/",
          "height": 331
        },
        "outputId": "0fd2c9f7-9c8d-450e-aaf6-32bdc2bc67e6",
        "executionInfo": {
          "status": "ok",
          "timestamp": 1524509598801,
          "user_tz": 300,
          "elapsed": 581,
          "user": {
            "displayName": "Andrew Spittlemeister",
            "photoUrl": "//lh5.googleusercontent.com/-K1fqqvWvozY/AAAAAAAAAAI/AAAAAAAAABg/Kh4T3wfzofk/s50-c-k-no/photo.jpg",
            "userId": "116305124686982070571"
          }
        }
      },
      "cell_type": "code",
      "source": [
        "layer_output = layer0([im, 0])[0]\n",
        "ALL = layer_output[0,:,:,:]\n",
        "ALL = np.reshape(ALL, (48*5, 48 * 8), order='F')\n",
        "\n",
        "plt.imshow(ALL)"
      ],
      "execution_count": 196,
      "outputs": [
        {
          "output_type": "display_data",
          "data": {
            "image/png": "[encoded data removed]",
            "text/plain": [
              "<matplotlib.figure.Figure at 0x7f9e9447dfd0>"
            ]
          },
          "metadata": {
            "tags": []
          }
        }
      ]
    },
    {
      "metadata": {
        "id": "9Arv6gXr1Goy",
        "colab_type": "code",
        "colab": {
          "autoexec": {
            "startup": false,
            "wait_interval": 0
          },
          "base_uri": "https://localhost:8080/",
          "height": 349
        },
        "outputId": "8f5daa7e-6eac-4318-9d8c-2071265ad34e",
        "executionInfo": {
          "status": "ok",
          "timestamp": 1524509741704,
          "user_tz": 300,
          "elapsed": 1561,
          "user": {
            "displayName": "Andrew Spittlemeister",
            "photoUrl": "//lh5.googleusercontent.com/-K1fqqvWvozY/AAAAAAAAAAI/AAAAAAAAABg/Kh4T3wfzofk/s50-c-k-no/photo.jpg",
            "userId": "116305124686982070571"
          }
        }
      },
      "cell_type": "code",
      "source": [
        "plt.imshow(layer_output[0, :, :,0])"
      ],
      "execution_count": 199,
      "outputs": [
        {
          "output_type": "display_data",
          "data": {
            "image/png": "[encoded data removed]",
            "text/plain": [
              "<matplotlib.figure.Figure at 0x7f9e94499b00>"
            ]
          },
          "metadata": {
            "tags": []
          }
        }
      ]
    },
    {
      "metadata": {
        "id": "66dlPRVaxL6A",
        "colab_type": "code",
        "colab": {
          "autoexec": {
            "startup": false,
            "wait_interval": 0
          },
          "base_uri": "https://localhost:8080/",
          "height": 349
        },
        "outputId": "41243037-9efd-406e-a6fe-d3c3b1c4d992",
        "executionInfo": {
          "status": "ok",
          "timestamp": 1524509760147,
          "user_tz": 300,
          "elapsed": 1143,
          "user": {
            "displayName": "Andrew Spittlemeister",
            "photoUrl": "//lh5.googleusercontent.com/-K1fqqvWvozY/AAAAAAAAAAI/AAAAAAAAABg/Kh4T3wfzofk/s50-c-k-no/photo.jpg",
            "userId": "116305124686982070571"
          }
        }
      },
      "cell_type": "code",
      "source": [
        "plt.imshow(layer_output[0, :, :,1])"
      ],
      "execution_count": 200,
      "outputs": [
        {
          "output_type": "display_data",
          "data": {
            "image/png": "[encoded data removed]",
            "text/plain": [
              "<matplotlib.figure.Figure at 0x7f9e93bd65f8>"
            ]
          },
          "metadata": {
            "tags": []
          }
        }
      ]
    },
    {
      "metadata": {
        "id": "wd_Or26MxPk9",
        "colab_type": "code",
        "colab": {
          "autoexec": {
            "startup": false,
            "wait_interval": 0
          },
          "base_uri": "https://localhost:8080/",
          "height": 349
        },
        "outputId": "5fd587b5-5fe7-440c-f605-fa5d3fb89819",
        "executionInfo": {
          "status": "ok",
          "timestamp": 1524509784385,
          "user_tz": 300,
          "elapsed": 1225,
          "user": {
            "displayName": "Andrew Spittlemeister",
            "photoUrl": "//lh5.googleusercontent.com/-K1fqqvWvozY/AAAAAAAAAAI/AAAAAAAAABg/Kh4T3wfzofk/s50-c-k-no/photo.jpg",
            "userId": "116305124686982070571"
          }
        }
      },
      "cell_type": "code",
      "source": [
        "plt.imshow(layer_output[0, :, :,6])"
      ],
      "execution_count": 201,
      "outputs": [
        {
          "output_type": "display_data",
          "data": {
            "image/png": "[encoded data removed]",
            "text/plain": [
              "<matplotlib.figure.Figure at 0x7f9e93b74470>"
            ]
          },
          "metadata": {
            "tags": []
          }
        }
      ]
    },
    {
      "metadata": {
        "id": "TpBGhbSzxVRT",
        "colab_type": "code",
        "colab": {
          "autoexec": {
            "startup": false,
            "wait_interval": 0
          },
          "base_uri": "https://localhost:8080/",
          "height": 349
        },
        "outputId": "09559fb8-ccd6-4219-9850-cdf2b8117532",
        "executionInfo": {
          "status": "ok",
          "timestamp": 1524509807784,
          "user_tz": 300,
          "elapsed": 1102,
          "user": {
            "displayName": "Andrew Spittlemeister",
            "photoUrl": "//lh5.googleusercontent.com/-K1fqqvWvozY/AAAAAAAAAAI/AAAAAAAAABg/Kh4T3wfzofk/s50-c-k-no/photo.jpg",
            "userId": "116305124686982070571"
          }
        }
      },
      "cell_type": "code",
      "source": [
        "plt.imshow(layer_output[0, :, :,7])"
      ],
      "execution_count": 202,
      "outputs": [
        {
          "output_type": "display_data",
          "data": {
            "image/png": "[encoded data removed]",
            "text/plain": [
              "<matplotlib.figure.Figure at 0x7f9e93abecf8>"
            ]
          },
          "metadata": {
            "tags": []
          }
        }
      ]
    },
    {
      "metadata": {
        "id": "g2ZL_c7XxXE9",
        "colab_type": "code",
        "colab": {
          "autoexec": {
            "startup": false,
            "wait_interval": 0
          },
          "base_uri": "https://localhost:8080/",
          "height": 349
        },
        "outputId": "ee8f0f34-46da-4e27-d5a7-dfafbd660952",
        "executionInfo": {
          "status": "ok",
          "timestamp": 1524509830482,
          "user_tz": 300,
          "elapsed": 1303,
          "user": {
            "displayName": "Andrew Spittlemeister",
            "photoUrl": "//lh5.googleusercontent.com/-K1fqqvWvozY/AAAAAAAAAAI/AAAAAAAAABg/Kh4T3wfzofk/s50-c-k-no/photo.jpg",
            "userId": "116305124686982070571"
          }
        }
      },
      "cell_type": "code",
      "source": [
        "plt.imshow(layer_output[0, :, :,8])"
      ],
      "execution_count": 203,
      "outputs": [
        {
          "output_type": "display_data",
          "data": {
            "image/png": "[encoded data removed]",
            "text/plain": [
              "<matplotlib.figure.Figure at 0x7f9e93aa1cc0>"
            ]
          },
          "metadata": {
            "tags": []
          }
        }
      ]
    },
    {
      "metadata": {
        "id": "eX8LpsGJxZDZ",
        "colab_type": "code",
        "colab": {
          "autoexec": {
            "startup": false,
            "wait_interval": 0
          },
          "base_uri": "https://localhost:8080/",
          "height": 349
        },
        "outputId": "6ca27858-8bdf-44e1-bc94-8196be7f22a8",
        "executionInfo": {
          "status": "ok",
          "timestamp": 1524509859753,
          "user_tz": 300,
          "elapsed": 1485,
          "user": {
            "displayName": "Andrew Spittlemeister",
            "photoUrl": "//lh5.googleusercontent.com/-K1fqqvWvozY/AAAAAAAAAAI/AAAAAAAAABg/Kh4T3wfzofk/s50-c-k-no/photo.jpg",
            "userId": "116305124686982070571"
          }
        }
      },
      "cell_type": "code",
      "source": [
        "plt.imshow(layer_output[0, :, :,9])"
      ],
      "execution_count": 205,
      "outputs": [
        {
          "output_type": "display_data",
          "data": {
            "image/png": "[encoded data removed]",
            "text/plain": [
              "<matplotlib.figure.Figure at 0x7f9e944ff400>"
            ]
          },
          "metadata": {
            "tags": []
          }
        }
      ]
    },
    {
      "metadata": {
        "id": "cZ64agQxxa7R",
        "colab_type": "code",
        "colab": {
          "autoexec": {
            "startup": false,
            "wait_interval": 0
          },
          "base_uri": "https://localhost:8080/",
          "height": 349
        },
        "outputId": "b77e3aaa-1c84-420a-be69-e260d941eea4",
        "executionInfo": {
          "status": "ok",
          "timestamp": 1524509883051,
          "user_tz": 300,
          "elapsed": 1135,
          "user": {
            "displayName": "Andrew Spittlemeister",
            "photoUrl": "//lh5.googleusercontent.com/-K1fqqvWvozY/AAAAAAAAAAI/AAAAAAAAABg/Kh4T3wfzofk/s50-c-k-no/photo.jpg",
            "userId": "116305124686982070571"
          }
        }
      },
      "cell_type": "code",
      "source": [
        "plt.imshow(layer_output[0, :, :,10])"
      ],
      "execution_count": 206,
      "outputs": [
        {
          "output_type": "display_data",
          "data": {
            "image/png": "[encoded data removed]",
            "text/plain": [
              "<matplotlib.figure.Figure at 0x7f9e93939780>"
            ]
          },
          "metadata": {
            "tags": []
          }
        }
      ]
    },
    {
      "metadata": {
        "id": "IboiKQdixdE7",
        "colab_type": "code",
        "colab": {
          "autoexec": {
            "startup": false,
            "wait_interval": 0
          },
          "base_uri": "https://localhost:8080/",
          "height": 349
        },
        "outputId": "a52274aa-ca1a-4887-8952-288aa150a925",
        "executionInfo": {
          "status": "ok",
          "timestamp": 1524509898713,
          "user_tz": 300,
          "elapsed": 1255,
          "user": {
            "displayName": "Andrew Spittlemeister",
            "photoUrl": "//lh5.googleusercontent.com/-K1fqqvWvozY/AAAAAAAAAAI/AAAAAAAAABg/Kh4T3wfzofk/s50-c-k-no/photo.jpg",
            "userId": "116305124686982070571"
          }
        }
      },
      "cell_type": "code",
      "source": [
        "plt.imshow(layer_output[0, :, :,11])"
      ],
      "execution_count": 207,
      "outputs": [
        {
          "output_type": "display_data",
          "data": {
            "image/png": "[encoded data removed]",
            "text/plain": [
              "<matplotlib.figure.Figure at 0x7f9e938f86d8>"
            ]
          },
          "metadata": {
            "tags": []
          }
        }
      ]
    },
    {
      "metadata": {
        "id": "xBgdZDmnvIcZ",
        "colab_type": "text"
      },
      "cell_type": "markdown",
      "source": [
        "### Layer 1 (after second convolution)"
      ]
    },
    {
      "metadata": {
        "id": "gxC8lxgvrhva",
        "colab_type": "code",
        "colab": {
          "autoexec": {
            "startup": false,
            "wait_interval": 0
          },
          "base_uri": "https://localhost:8080/",
          "height": 349
        },
        "outputId": "d12150e6-88f3-443d-a274-e3884871c9ab",
        "executionInfo": {
          "status": "ok",
          "timestamp": 1524510132656,
          "user_tz": 300,
          "elapsed": 940,
          "user": {
            "displayName": "Andrew Spittlemeister",
            "photoUrl": "//lh5.googleusercontent.com/-K1fqqvWvozY/AAAAAAAAAAI/AAAAAAAAABg/Kh4T3wfzofk/s50-c-k-no/photo.jpg",
            "userId": "116305124686982070571"
          }
        }
      },
      "cell_type": "code",
      "source": [
        "layer_output = layer1([im, 0])[0]\n",
        "ALL = layer_output[0,:,:,:]\n",
        "ALL = np.reshape(ALL, (48*5, 48 * 8), order='F')\n",
        "\n",
        "plt.imshow(ALL)"
      ],
      "execution_count": 225,
      "outputs": [
        {
          "output_type": "execute_result",
          "data": {
            "text/plain": [
              "<matplotlib.image.AxesImage at 0x7f9e9398c390>"
            ]
          },
          "metadata": {
            "tags": []
          },
          "execution_count": 225
        },
        {
          "output_type": "display_data",
          "data": {
            "image/png": "[encoded data removed]",
            "text/plain": [
              "<matplotlib.figure.Figure at 0x7f9e939b7550>"
            ]
          },
          "metadata": {
            "tags": []
          }
        }
      ]
    },
    {
      "metadata": {
        "id": "BlMDSyaF14Fz",
        "colab_type": "code",
        "colab": {
          "autoexec": {
            "startup": false,
            "wait_interval": 0
          },
          "base_uri": "https://localhost:8080/",
          "height": 349
        },
        "outputId": "8ab8b101-2fe9-495c-8a8e-16df2b9802c2",
        "executionInfo": {
          "status": "ok",
          "timestamp": 1524510134770,
          "user_tz": 300,
          "elapsed": 1335,
          "user": {
            "displayName": "Andrew Spittlemeister",
            "photoUrl": "//lh5.googleusercontent.com/-K1fqqvWvozY/AAAAAAAAAAI/AAAAAAAAABg/Kh4T3wfzofk/s50-c-k-no/photo.jpg",
            "userId": "116305124686982070571"
          }
        }
      },
      "cell_type": "code",
      "source": [
        "plt.imshow(layer_output[0, :, :,14])"
      ],
      "execution_count": 226,
      "outputs": [
        {
          "output_type": "display_data",
          "data": {
            "image/png": "[encoded data removed]",
            "text/plain": [
              "<matplotlib.figure.Figure at 0x7f9e939d7b38>"
            ]
          },
          "metadata": {
            "tags": []
          }
        }
      ]
    },
    {
      "metadata": {
        "id": "gWmgP6KrvQrJ",
        "colab_type": "text"
      },
      "cell_type": "markdown",
      "source": [
        "### Layer 3 (after first pooling)"
      ]
    },
    {
      "metadata": {
        "id": "1BedBrkptPUn",
        "colab_type": "code",
        "colab": {
          "autoexec": {
            "startup": false,
            "wait_interval": 0
          },
          "base_uri": "https://localhost:8080/",
          "height": 349
        },
        "outputId": "1a2be391-f335-4d74-e3b9-ebf6c2e6ce10",
        "executionInfo": {
          "status": "ok",
          "timestamp": 1524510554843,
          "user_tz": 300,
          "elapsed": 433,
          "user": {
            "displayName": "Andrew Spittlemeister",
            "photoUrl": "//lh5.googleusercontent.com/-K1fqqvWvozY/AAAAAAAAAAI/AAAAAAAAABg/Kh4T3wfzofk/s50-c-k-no/photo.jpg",
            "userId": "116305124686982070571"
          }
        }
      },
      "cell_type": "code",
      "source": [
        "layer_output = layer3([im, 0])[0]\n",
        "ALL = layer_output[0,:,:,:]\n",
        "ALL = np.reshape(ALL, (24*5, 24 * 8), order='F')\n",
        "\n",
        "plt.imshow(ALL)"
      ],
      "execution_count": 243,
      "outputs": [
        {
          "output_type": "execute_result",
          "data": {
            "text/plain": [
              "<matplotlib.image.AxesImage at 0x7f9e9320edd8>"
            ]
          },
          "metadata": {
            "tags": []
          },
          "execution_count": 243
        },
        {
          "output_type": "display_data",
          "data": {
            "image/png": "[encoded data removed]",
            "text/plain": [
              "<matplotlib.figure.Figure at 0x7f9e9324aa58>"
            ]
          },
          "metadata": {
            "tags": []
          }
        }
      ]
    },
    {
      "metadata": {
        "id": "uqjw_-cJuEBh",
        "colab_type": "code",
        "colab": {
          "autoexec": {
            "startup": false,
            "wait_interval": 0
          },
          "base_uri": "https://localhost:8080/",
          "height": 366
        },
        "outputId": "c7650a17-a348-4ee9-9363-096568d0213c",
        "executionInfo": {
          "status": "ok",
          "timestamp": 1524510556069,
          "user_tz": 300,
          "elapsed": 438,
          "user": {
            "displayName": "Andrew Spittlemeister",
            "photoUrl": "//lh5.googleusercontent.com/-K1fqqvWvozY/AAAAAAAAAAI/AAAAAAAAABg/Kh4T3wfzofk/s50-c-k-no/photo.jpg",
            "userId": "116305124686982070571"
          }
        }
      },
      "cell_type": "code",
      "source": [
        "plt.imshow(layer_output[0, :, :,2])"
      ],
      "execution_count": 244,
      "outputs": [
        {
          "output_type": "execute_result",
          "data": {
            "text/plain": [
              "<matplotlib.image.AxesImage at 0x7f9e931f4860>"
            ]
          },
          "metadata": {
            "tags": []
          },
          "execution_count": 244
        },
        {
          "output_type": "display_data",
          "data": {
            "image/png": "[encoded data removed]",
            "text/plain": [
              "<matplotlib.figure.Figure at 0x7f9e93244a20>"
            ]
          },
          "metadata": {
            "tags": []
          }
        }
      ]
    },
    {
      "metadata": {
        "id": "WKlDUNnHvf4-",
        "colab_type": "code",
        "colab": {
          "autoexec": {
            "startup": false,
            "wait_interval": 0
          },
          "base_uri": "https://localhost:8080/",
          "height": 366
        },
        "outputId": "9371a37a-03d3-4f1c-c4b5-c1cf1fa11ce1",
        "executionInfo": {
          "status": "ok",
          "timestamp": 1524510557144,
          "user_tz": 300,
          "elapsed": 412,
          "user": {
            "displayName": "Andrew Spittlemeister",
            "photoUrl": "//lh5.googleusercontent.com/-K1fqqvWvozY/AAAAAAAAAAI/AAAAAAAAABg/Kh4T3wfzofk/s50-c-k-no/photo.jpg",
            "userId": "116305124686982070571"
          }
        }
      },
      "cell_type": "code",
      "source": [
        "plt.imshow(layer_output[0, :, :,3])"
      ],
      "execution_count": 245,
      "outputs": [
        {
          "output_type": "execute_result",
          "data": {
            "text/plain": [
              "<matplotlib.image.AxesImage at 0x7f9e9314d2e8>"
            ]
          },
          "metadata": {
            "tags": []
          },
          "execution_count": 245
        },
        {
          "output_type": "display_data",
          "data": {
            "image/png": "[encoded data removed]",
            "text/plain": [
              "<matplotlib.figure.Figure at 0x7f9e931da668>"
            ]
          },
          "metadata": {
            "tags": []
          }
        }
      ]
    },
    {
      "metadata": {
        "id": "dAAR-clWvwQI",
        "colab_type": "text"
      },
      "cell_type": "markdown",
      "source": [
        "### Layer 7 (after second pooling)"
      ]
    },
    {
      "metadata": {
        "id": "kvJsPDDfvldW",
        "colab_type": "code",
        "colab": {
          "autoexec": {
            "startup": false,
            "wait_interval": 0
          },
          "base_uri": "https://localhost:8080/",
          "height": 319
        },
        "outputId": "c3880940-7660-4845-c276-3e30a3f9dc7c",
        "executionInfo": {
          "status": "ok",
          "timestamp": 1524510616131,
          "user_tz": 300,
          "elapsed": 1164,
          "user": {
            "displayName": "Andrew Spittlemeister",
            "photoUrl": "//lh5.googleusercontent.com/-K1fqqvWvozY/AAAAAAAAAAI/AAAAAAAAABg/Kh4T3wfzofk/s50-c-k-no/photo.jpg",
            "userId": "116305124686982070571"
          }
        }
      },
      "cell_type": "code",
      "source": [
        "layer_output = layer7([im, 0])[0]\n",
        "ALL = layer_output[0,:,:,:]\n",
        "ALL = np.reshape(ALL, (12*6, 12 * 10), order='F')\n",
        "\n",
        "plt.imshow(ALL)"
      ],
      "execution_count": 247,
      "outputs": [
        {
          "output_type": "display_data",
          "data": {
            "image/png": "[encoded data removed]",
            "text/plain": [
              "<matplotlib.figure.Figure at 0x7f9e9312ff60>"
            ]
          },
          "metadata": {
            "tags": []
          }
        }
      ]
    },
    {
      "metadata": {
        "id": "id0j-UC67CgL",
        "colab_type": "text"
      },
      "cell_type": "markdown",
      "source": [
        "## Look at the Weights"
      ]
    },
    {
      "metadata": {
        "id": "1KNeAJMP7ISK",
        "colab_type": "code",
        "colab": {
          "autoexec": {
            "startup": false,
            "wait_interval": 0
          }
        }
      },
      "cell_type": "code",
      "source": [
        "weights = model.get_weights()"
      ],
      "execution_count": 0,
      "outputs": []
    },
    {
      "metadata": {
        "id": "CnmSnQvR7hgx",
        "colab_type": "text"
      },
      "cell_type": "markdown",
      "source": [
        "### Layer 0 "
      ]
    },
    {
      "metadata": {
        "id": "zq6TNubC7KtB",
        "colab_type": "code",
        "colab": {
          "autoexec": {
            "startup": false,
            "wait_interval": 0
          },
          "base_uri": "https://localhost:8080/",
          "height": 328
        },
        "outputId": "8fd56105-6fa7-45fa-8a52-4bdd4d62bc1a",
        "executionInfo": {
          "status": "ok",
          "timestamp": 1524511098910,
          "user_tz": 300,
          "elapsed": 1467,
          "user": {
            "displayName": "Andrew Spittlemeister",
            "photoUrl": "//lh5.googleusercontent.com/-K1fqqvWvozY/AAAAAAAAAAI/AAAAAAAAABg/Kh4T3wfzofk/s50-c-k-no/photo.jpg",
            "userId": "116305124686982070571"
          }
        }
      },
      "cell_type": "code",
      "source": [
        "w0 = weights[0]\n",
        "w0 = w0[:,:,0,:]\n",
        "ALL = np.reshape(w0, (5*5, 5 * 8), order='F')\n",
        "\n",
        "plt.imshow(ALL)"
      ],
      "execution_count": 262,
      "outputs": [
        {
          "output_type": "display_data",
          "data": {
            "image/png": "[encoded data removed]",
            "text/plain": [
              "<matplotlib.figure.Figure at 0x7f9e92fc2320>"
            ]
          },
          "metadata": {
            "tags": []
          }
        }
      ]
    }
  ]
}