{
  "nbformat": 4,
  "nbformat_minor": 0,
  "metadata": {
    "colab": {
      "name": "FacialExpressionRecognition.ipynb",
      "version": "0.3.2",
      "views": {},
      "default_view": {},
      "provenance": [],
      "collapsed_sections": [],
      "toc_visible": true
    },
    "kernelspec": {
      "name": "python3",
      "display_name": "Python 3"
    },
    "accelerator": "GPU"
  },
  "cells": [
    {
      "metadata": {
        "id": "_PIp-q_txgC7",
        "colab_type": "text"
      },
      "cell_type": "markdown",
      "source": [
        "# Facial Expression Recognition Project"
      ]
    },
    {
      "metadata": {
        "id": "fYAgdTc8A3iK",
        "colab_type": "text"
      },
      "cell_type": "markdown",
      "source": [
        "## Library Imports"
      ]
    },
    {
      "metadata": {
        "id": "Cq6oNqBTA7Xk",
        "colab_type": "code",
        "colab": {
          "autoexec": {
            "startup": false,
            "wait_interval": 0
          }
        }
      },
      "cell_type": "code",
      "source": [
        "!pip install -U -q PyDrive\n",
        "!pip install -q keras\n",
        "\n",
        "\n",
        "from google.colab import files\n",
        "\n",
        "from pydrive.auth import GoogleAuth\n",
        "from pydrive.drive import GoogleDrive\n",
        "from google.colab import auth\n",
        "from oauth2client.client import GoogleCredentials\n",
        "\n",
        "import pandas as pd\n",
        "import numpy as np\n",
        "from matplotlib import pyplot as plt\n"
      ],
      "execution_count": 0,
      "outputs": []
    },
    {
      "metadata": {
        "id": "kgnZB2Ic7mNf",
        "colab_type": "text"
      },
      "cell_type": "markdown",
      "source": [
        "## Helper Functions"
      ]
    },
    {
      "metadata": {
        "id": "NpQxP2CQ7uUk",
        "colab_type": "code",
        "colab": {
          "autoexec": {
            "startup": false,
            "wait_interval": 0
          }
        }
      },
      "cell_type": "code",
      "source": [
        "def uploadFiles():\n",
        "  uploaded = files.upload()\n",
        "\n",
        "  for fn in uploaded.keys():\n",
        "    print('User uploaded file \"{name}\" with length {length} bytes'.format(\n",
        "        name=fn, length=len(uploaded[fn])))\n",
        "    \n",
        "  filenames = list(uploaded.keys())\n",
        "  for f in filenames:\n",
        "    data = str(uploaded[f], 'utf-8')\n",
        "    file = open(f, 'w')\n",
        "    file.write(data)\n",
        "    file.close()\n",
        "\n",
        "def pullImage(frame, index: int):\n",
        "  \"\"\"\n",
        "  Takes in a pandas data frame object and an index and returns the 48 x 48 pixel\n",
        "  matrix as well as the label for the type of emotion.\n",
        "  \"\"\"\n",
        "  img = frame.loc[index]['pixels'].split(' ')\n",
        "  img = np.array([np.int(i) for i in img])\n",
        "  img.resize(48,48)\n",
        "  label = np.uint8(frame.loc[index]['emotion'])\n",
        "  \n",
        "  return img, label"
      ],
      "execution_count": 0,
      "outputs": []
    },
    {
      "metadata": {
        "id": "WTphsC2XxlyZ",
        "colab_type": "text"
      },
      "cell_type": "markdown",
      "source": [
        "## Import FER2013 Dataset and Other Files"
      ]
    },
    {
      "metadata": {
        "id": "N-ZeSYO5xlWL",
        "colab_type": "code",
        "colab": {
          "autoexec": {
            "startup": false,
            "wait_interval": 0
          }
        }
      },
      "cell_type": "code",
      "source": [
        "# Authenticate and create the PyDrive client.\n",
        "auth.authenticate_user()\n",
        "gauth = GoogleAuth()\n",
        "gauth.credentials = GoogleCredentials.get_application_default()\n",
        "drive = GoogleDrive(gauth)"
      ],
      "execution_count": 0,
      "outputs": []
    },
    {
      "metadata": {
        "id": "BTUTZvh5ya2r",
        "colab_type": "code",
        "colab": {
          "autoexec": {
            "startup": false,
            "wait_interval": 0
          }
        }
      },
      "cell_type": "code",
      "source": [
        "fer2013 = drive.CreateFile({'id':'1Xdlvej7eXaVcfCf3CsQ1LcSFAiNx_63c'})"
      ],
      "execution_count": 0,
      "outputs": []
    },
    {
      "metadata": {
        "id": "_nTDy06Cza-A",
        "colab_type": "code",
        "colab": {
          "autoexec": {
            "startup": false,
            "wait_interval": 0
          }
        }
      },
      "cell_type": "code",
      "source": [
        "fer2013.GetContentFile('fer2013file.csv')"
      ],
      "execution_count": 0,
      "outputs": []
    },
    {
      "metadata": {
        "id": "PzXQz_Xw2zPF",
        "colab_type": "text"
      },
      "cell_type": "markdown",
      "source": [
        "Save file as a pandas dataframe."
      ]
    },
    {
      "metadata": {
        "id": "IjjF8_DZ1PWv",
        "colab_type": "code",
        "colab": {
          "autoexec": {
            "startup": false,
            "wait_interval": 0
          }
        }
      },
      "cell_type": "code",
      "source": [
        "df = pd.read_csv('fer2013file.csv')"
      ],
      "execution_count": 0,
      "outputs": []
    },
    {
      "metadata": {
        "id": "ZmOFO3Dd24uE",
        "colab_type": "text"
      },
      "cell_type": "markdown",
      "source": [
        "## Parse Data\n",
        "\n",
        "Each image is a 48 x 48 grayscale photo.\n",
        "\n",
        "The contents of pixel string are space-separated pixel values in row major order.\n",
        "\n",
        "Emotional assignment convention:\n",
        "\n",
        "\n",
        "*   0 = Angry\n",
        "*   1 = Disgust\n",
        "*   2 = Fear\n",
        "*   3 = Happy\n",
        "*   4 = Sad\n",
        "*   5 = Surprise\n",
        "*   6 = Neutral\n"
      ]
    },
    {
      "metadata": {
        "id": "UJOf_ev33TkW",
        "colab_type": "code",
        "colab": {
          "autoexec": {
            "startup": false,
            "wait_interval": 0
          }
        }
      },
      "cell_type": "code",
      "source": [
        "df_Training = df[df.Usage == 'Training']\n",
        "df_Testing = df[df.Usage == 'PrivateTest'].reset_index(drop = True)"
      ],
      "execution_count": 0,
      "outputs": []
    },
    {
      "metadata": {
        "id": "_rDLckAIEZFV",
        "colab_type": "text"
      },
      "cell_type": "markdown",
      "source": [
        "## Build Convolutional Neural Network Model"
      ]
    },
    {
      "metadata": {
        "id": "E2Zebbv5HvDO",
        "colab_type": "code",
        "colab": {
          "autoexec": {
            "startup": false,
            "wait_interval": 0
          }
        }
      },
      "cell_type": "code",
      "source": [
        "img, lbl = pullImage(df_Testing, 3000)\n",
        "plt.imshow(img)"
      ],
      "execution_count": 0,
      "outputs": []
    },
    {
      "metadata": {
        "id": "3nYxogsrIsx0",
        "colab_type": "code",
        "colab": {
          "autoexec": {
            "startup": false,
            "wait_interval": 0
          }
        }
      },
      "cell_type": "code",
      "source": [
        ""
      ],
      "execution_count": 0,
      "outputs": []
    }
  ]
}