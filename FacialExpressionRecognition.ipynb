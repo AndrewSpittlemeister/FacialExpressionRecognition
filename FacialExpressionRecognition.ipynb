{
  "nbformat": 4,
  "nbformat_minor": 0,
  "metadata": {
    "colab": {
      "name": "FacialExpressionRecognition.ipynb",
      "version": "0.3.2",
      "views": {},
      "default_view": {},
      "provenance": [],
      "collapsed_sections": [],
      "toc_visible": true
    },
    "kernelspec": {
      "name": "python3",
      "display_name": "Python 3"
    },
    "accelerator": "GPU"
  },
  "cells": [
    {
      "metadata": {
        "id": "_PIp-q_txgC7",
        "colab_type": "text"
      },
      "cell_type": "markdown",
      "source": [
        "# Facial Expression Recognition Project"
      ]
    },
    {
      "metadata": {
        "id": "fYAgdTc8A3iK",
        "colab_type": "text"
      },
      "cell_type": "markdown",
      "source": [
        "## Library Imports"
      ]
    },
    {
      "metadata": {
        "id": "Cq6oNqBTA7Xk",
        "colab_type": "code",
        "colab": {
          "autoexec": {
            "startup": false,
            "wait_interval": 0
          }
        }
      },
      "cell_type": "code",
      "source": [
        "!pip install -U -q PyDrive\n",
        "!pip install -q keras\n",
        "\n",
        "\n",
        "from google.colab import files\n",
        "\n",
        "from pydrive.auth import GoogleAuth\n",
        "from pydrive.drive import GoogleDrive\n",
        "from google.colab import auth\n",
        "from oauth2client.client import GoogleCredentials\n",
        "\n",
        "import pandas as pd\n",
        "import numpy as np\n",
        "from matplotlib import pyplot as plt\n",
        "\n",
        "\n",
        "from keras.utils import to_categorical"
      ],
      "execution_count": 0,
      "outputs": []
    },
    {
      "metadata": {
        "id": "kgnZB2Ic7mNf",
        "colab_type": "text"
      },
      "cell_type": "markdown",
      "source": [
        "## Helper Functions"
      ]
    },
    {
      "metadata": {
        "id": "NpQxP2CQ7uUk",
        "colab_type": "code",
        "colab": {
          "autoexec": {
            "startup": false,
            "wait_interval": 0
          }
        }
      },
      "cell_type": "code",
      "source": [
        "def uploadFiles():\n",
        "  uploaded = files.upload()\n",
        "\n",
        "  for fn in uploaded.keys():\n",
        "    print('User uploaded file \"{name}\" with length {length} bytes'.format(\n",
        "        name=fn, length=len(uploaded[fn])))\n",
        "    \n",
        "  filenames = list(uploaded.keys())\n",
        "  for f in filenames:\n",
        "    data = str(uploaded[f], 'utf-8')\n",
        "    file = open(f, 'w')\n",
        "    file.write(data)\n",
        "    file.close()\n",
        "\n",
        "def pullImage(frame, index: int):\n",
        "  \"\"\"\n",
        "  Takes in a pandas data frame object and an index and returns the 48 x 48 pixel\n",
        "  matrix as well as the label for the type of emotion.\n",
        "  \"\"\"\n",
        "  img = frame.loc[index]['pixels'].split(' ')\n",
        "  img = np.array([np.int(i) for i in img])\n",
        "  img.resize(48,48)\n",
        "  label = np.uint8(frame.loc[index]['emotion'])\n",
        "  \n",
        "  return img, label\n",
        "\n",
        "def splitImage_Labels(frame):\n",
        "  \"\"\"\n",
        "  Takes in a pandas data frame object filled with pixel field and label field \n",
        "  and returns two numpy arrays; one for images and one for labels.\n",
        "  \"\"\"\n",
        "  labels = np.empty(len(frame))\n",
        "  images = np.empty((len(frame), 1, 48, 48))  # using channel first notation.\n",
        "  \n",
        "  for i in range(len(frame)):\n",
        "    images[i][0], labels[i] = pullImage(frame, i)\n",
        "    \n",
        "  return images.astype(np.uint8), to_categorical(labels, 7).astype(np.uint8)"
      ],
      "execution_count": 0,
      "outputs": []
    },
    {
      "metadata": {
        "id": "WTphsC2XxlyZ",
        "colab_type": "text"
      },
      "cell_type": "markdown",
      "source": [
        "## Import FER2013 Dataset and Other Files"
      ]
    },
    {
      "metadata": {
        "id": "N-ZeSYO5xlWL",
        "colab_type": "code",
        "colab": {
          "autoexec": {
            "startup": false,
            "wait_interval": 0
          }
        }
      },
      "cell_type": "code",
      "source": [
        "# Authenticate and create the PyDrive client.\n",
        "auth.authenticate_user()\n",
        "gauth = GoogleAuth()\n",
        "gauth.credentials = GoogleCredentials.get_application_default()\n",
        "drive = GoogleDrive(gauth)"
      ],
      "execution_count": 0,
      "outputs": []
    },
    {
      "metadata": {
        "id": "BTUTZvh5ya2r",
        "colab_type": "code",
        "colab": {
          "autoexec": {
            "startup": false,
            "wait_interval": 0
          }
        }
      },
      "cell_type": "code",
      "source": [
        "fer2013 = drive.CreateFile({'id':'1Xdlvej7eXaVcfCf3CsQ1LcSFAiNx_63c'})"
      ],
      "execution_count": 0,
      "outputs": []
    },
    {
      "metadata": {
        "id": "_nTDy06Cza-A",
        "colab_type": "code",
        "colab": {
          "autoexec": {
            "startup": false,
            "wait_interval": 0
          }
        }
      },
      "cell_type": "code",
      "source": [
        "fer2013.GetContentFile('fer2013file.csv')"
      ],
      "execution_count": 0,
      "outputs": []
    },
    {
      "metadata": {
        "id": "PzXQz_Xw2zPF",
        "colab_type": "text"
      },
      "cell_type": "markdown",
      "source": [
        "Save file as a pandas dataframe."
      ]
    },
    {
      "metadata": {
        "id": "IjjF8_DZ1PWv",
        "colab_type": "code",
        "colab": {
          "autoexec": {
            "startup": false,
            "wait_interval": 0
          }
        }
      },
      "cell_type": "code",
      "source": [
        "df = pd.read_csv('fer2013file.csv')"
      ],
      "execution_count": 0,
      "outputs": []
    },
    {
      "metadata": {
        "id": "ZmOFO3Dd24uE",
        "colab_type": "text"
      },
      "cell_type": "markdown",
      "source": [
        "## Parse Data\n",
        "\n",
        "Each image is a 48 x 48 grayscale photo.\n",
        "\n",
        "The contents of pixel string are space-separated pixel values in row major order.\n",
        "\n",
        "Emotional assignment convention:\n",
        "\n",
        "\n",
        "*   0 = Angry\n",
        "*   1 = Disgust\n",
        "*   2 = Fear\n",
        "*   3 = Happy\n",
        "*   4 = Sad\n",
        "*   5 = Surprise\n",
        "*   6 = Neutral\n"
      ]
    },
    {
      "metadata": {
        "id": "UJOf_ev33TkW",
        "colab_type": "code",
        "colab": {
          "autoexec": {
            "startup": false,
            "wait_interval": 0
          }
        }
      },
      "cell_type": "code",
      "source": [
        "df_Training = df[df.Usage == 'Training']\n",
        "df_Testing = df[df.Usage == 'PrivateTest'].reset_index(drop = True)\n",
        "img_train, lbl_train = splitImage_Labels(df_Training)\n",
        "img_test, lbl_test = splitImage_Labels(df_Testing)"
      ],
      "execution_count": 0,
      "outputs": []
    },
    {
      "metadata": {
        "id": "tHGmGRgY3wz9",
        "colab_type": "code",
        "colab": {
          "autoexec": {
            "startup": false,
            "wait_interval": 0
          },
          "output_extras": [
            {
              "item_id": 1
            }
          ],
          "base_uri": "https://localhost:8080/",
          "height": 119
        },
        "outputId": "b6ce7dcf-1cc4-410b-ae06-d3acb6fed132",
        "executionInfo": {
          "status": "ok",
          "timestamp": 1521762588477,
          "user_tz": 300,
          "elapsed": 245,
          "user": {
            "displayName": "Andrew Spittlemeister",
            "photoUrl": "//lh5.googleusercontent.com/-K1fqqvWvozY/AAAAAAAAAAI/AAAAAAAAABg/Kh4T3wfzofk/s50-c-k-no/photo.jpg",
            "userId": "116305124686982070571"
          }
        }
      },
      "cell_type": "code",
      "source": [
        "print('Type and Shape of Image Datasets: ' + '\\n\\tTraining: ' + '\\t' + \n",
        "      str(type(img_train[0][0][0][0])) + '\\t' + str(img_train.shape) + \n",
        "      '\\n\\tTesting: ' + '\\t' + str(type(img_train[0][0][0][0])) + '\\t' + \n",
        "      str(img_test.shape))\n",
        "print('Type and Shape of Image Datasets: ' + '\\n\\tTraining: ' + '\\t' + \n",
        "      str(type(lbl_train[0][0])) + '\\t' + str(lbl_train.shape) + \n",
        "      '\\n\\tTesting: ' + '\\t' + str(type(lbl_train[0][0])) + '\\t' + \n",
        "      str(lbl_test.shape))"
      ],
      "execution_count": 143,
      "outputs": [
        {
          "output_type": "stream",
          "text": [
            "Type and Shape of Image Datasets: \n",
            "\tTraining: \t<class 'numpy.uint8'>\t(28709, 1, 48, 48)\n",
            "\tTesting: \t<class 'numpy.uint8'>\t(3589, 1, 48, 48)\n",
            "Type and Shape of Image Datasets: \n",
            "\tTraining: \t<class 'numpy.uint8'>\t(28709, 7)\n",
            "\tTesting: \t<class 'numpy.uint8'>\t(3589, 7)\n"
          ],
          "name": "stdout"
        }
      ]
    },
    {
      "metadata": {
        "id": "fo6-sDDTwNLR",
        "colab_type": "text"
      },
      "cell_type": "markdown",
      "source": [
        "### Save Data to .npy Files"
      ]
    },
    {
      "metadata": {
        "id": "SRO8zjAov1ft",
        "colab_type": "code",
        "colab": {
          "autoexec": {
            "startup": false,
            "wait_interval": 0
          }
        },
        "cellView": "code"
      },
      "cell_type": "code",
      "source": [
        "np.save('img_train.npy', img_train)\n",
        "np.save('lbl_train.npy', lbl_train)\n",
        "np.save('img_test.npy', img_test)\n",
        "np.save('lbl_test.npy', img_test)"
      ],
      "execution_count": 0,
      "outputs": []
    },
    {
      "metadata": {
        "id": "xgeOM-EMyNG7",
        "colab_type": "text"
      },
      "cell_type": "markdown",
      "source": [
        "### Verify Image Import"
      ]
    },
    {
      "metadata": {
        "id": "aipE_NIKyV6Q",
        "colab_type": "code",
        "colab": {
          "autoexec": {
            "startup": false,
            "wait_interval": 0
          },
          "output_extras": [
            {
              "item_id": 1
            },
            {
              "item_id": 2
            }
          ],
          "base_uri": "https://localhost:8080/",
          "height": 379
        },
        "outputId": "0ee27947-de8b-47fa-9665-e77df1709dca",
        "executionInfo": {
          "status": "ok",
          "timestamp": 1521762645898,
          "user_tz": 300,
          "elapsed": 430,
          "user": {
            "displayName": "Andrew Spittlemeister",
            "photoUrl": "//lh5.googleusercontent.com/-K1fqqvWvozY/AAAAAAAAAAI/AAAAAAAAABg/Kh4T3wfzofk/s50-c-k-no/photo.jpg",
            "userId": "116305124686982070571"
          }
        }
      },
      "cell_type": "code",
      "source": [
        "plt.imshow(img_train[0][0])\n",
        "plt.title('Training Image 1 (with label ' + str(lbl_train[0]) + ')')"
      ],
      "execution_count": 144,
      "outputs": [
        {
          "output_type": "execute_result",
          "data": {
            "text/plain": [
              "Text(0.5,1,'Training Image 1 (with label [1 0 0 0 0 0 0])')"
            ]
          },
          "metadata": {
            "tags": []
          },
          "execution_count": 144
        },
        {
          "output_type": "display_data",
          "data": {
            "image/png": "[encoded data removed]",
            "text/plain": [
              "<matplotlib.figure.Figure at 0x7f1645319cf8>"
            ]
          },
          "metadata": {
            "tags": []
          }
        }
      ]
    },
    {
      "metadata": {
        "id": "A0_K_CHbybQM",
        "colab_type": "code",
        "colab": {
          "autoexec": {
            "startup": false,
            "wait_interval": 0
          },
          "output_extras": [
            {
              "item_id": 1
            },
            {
              "item_id": 2
            }
          ],
          "base_uri": "https://localhost:8080/",
          "height": 379
        },
        "outputId": "5d4c3dde-05cd-47a7-f22c-673cd55c6e79",
        "executionInfo": {
          "status": "ok",
          "timestamp": 1521762647442,
          "user_tz": 300,
          "elapsed": 449,
          "user": {
            "displayName": "Andrew Spittlemeister",
            "photoUrl": "//lh5.googleusercontent.com/-K1fqqvWvozY/AAAAAAAAAAI/AAAAAAAAABg/Kh4T3wfzofk/s50-c-k-no/photo.jpg",
            "userId": "116305124686982070571"
          }
        }
      },
      "cell_type": "code",
      "source": [
        "plt.imshow(img_test[0][0])\n",
        "plt.title('Training Image 1 (with label ' + str(lbl_test[0]) + ')')"
      ],
      "execution_count": 145,
      "outputs": [
        {
          "output_type": "execute_result",
          "data": {
            "text/plain": [
              "Text(0.5,1,'Training Image 1 (with label [1 0 0 0 0 0 0])')"
            ]
          },
          "metadata": {
            "tags": []
          },
          "execution_count": 145
        },
        {
          "output_type": "display_data",
          "data": {
            "image/png": "[encoded data removed]",
            "text/plain": [
              "<matplotlib.figure.Figure at 0x7f1645272198>"
            ]
          },
          "metadata": {
            "tags": []
          }
        }
      ]
    },
    {
      "metadata": {
        "id": "_rDLckAIEZFV",
        "colab_type": "text"
      },
      "cell_type": "markdown",
      "source": [
        "## Build Convolutional Neural Network Model"
      ]
    },
    {
      "metadata": {
        "id": "oNWKGGZ4yiIh",
        "colab_type": "code",
        "colab": {
          "autoexec": {
            "startup": false,
            "wait_interval": 0
          }
        }
      },
      "cell_type": "code",
      "source": [
        "from keras.models import Sequential\n",
        "from keras.layers import Conv2D, MaxPooling2D, Dense\n",
        "from keras.layers import Activation, Dropout, Flatten\n",
        "\n",
        "filterSize = 32\n",
        "kernelSize = 4\n",
        "strideSize = 3\n",
        "batchSize = 128\n",
        "epochs = 50"
      ],
      "execution_count": 0,
      "outputs": []
    },
    {
      "metadata": {
        "id": "0mgaSdS92y0c",
        "colab_type": "code",
        "colab": {
          "autoexec": {
            "startup": false,
            "wait_interval": 0
          }
        }
      },
      "cell_type": "code",
      "source": [
        "model = Sequential()\n",
        "model.add(Conv2D(filterSize, kernelSize, strides = strideSize, padding='same', \n",
        "                 data_format='channels_first', activation='relu', \n",
        "                 input_shape=img_train[0].shape))\n",
        "model.add(Conv2D(filterSize, kernelSize, strides = strideSize, padding='same', \n",
        "                 data_format='channels_first', activation='relu'))\n",
        "model.add(Conv2D(filterSize, kernelSize, strides = strideSize, padding='same', \n",
        "                 data_format='channels_first', activation='relu'))\n",
        "model.add(MaxPooling2D(pool_size=(2, 2), padding='valid',\n",
        "                       data_format='channels_first'))\n",
        "\n",
        "model.add(Flatten())\n",
        "model.add(Dense(64, activation='relu'))\n",
        "model.add(Dense(64, activation='relu'))\n",
        "model.add(Dense(2, activation='softmax'))\n",
        "\n",
        "\n",
        "model.compile(optimizer='rmsprop',\n",
        "              loss='categorical_crossentropy',\n",
        "              metrics=['accuracy'])\n"
      ],
      "execution_count": 0,
      "outputs": []
    },
    {
      "metadata": {
        "id": "UPe8cYHBIXDM",
        "colab_type": "text"
      },
      "cell_type": "markdown",
      "source": [
        "## Train the Model"
      ]
    },
    {
      "metadata": {
        "id": "ft6iCvIaIW0z",
        "colab_type": "text"
      },
      "cell_type": "markdown",
      "source": [
        ""
      ]
    },
    {
      "metadata": {
        "id": "Qt07ciBwIRuc",
        "colab_type": "code",
        "colab": {
          "autoexec": {
            "startup": false,
            "wait_interval": 0
          }
        }
      },
      "cell_type": "code",
      "source": [
        ""
      ],
      "execution_count": 0,
      "outputs": []
    }
  ]
}
